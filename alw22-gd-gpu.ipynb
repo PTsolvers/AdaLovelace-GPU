{
 "cells": [
  {
   "cell_type": "markdown",
   "source": [
    "# Using graphics cards to solve forward and inverse problems in geodynamics\n",
    "\n",
    "#### 2022 Ada Lovelace Workshop\n",
    "#### Hévíz | Hungary | 28 August–2 September 2022\n",
    "\n",
    "### Ludovic Räss & Ivan Utkin\n",
    "\n",
    "![eth logo](./figures/logo_eth_wsl.png)"
   ],
   "metadata": {
    "name": "A slide ",
    "slideshow": {
     "slide_type": "slide"
    }
   }
  },
  {
   "cell_type": "markdown",
   "source": [
    "## What we will achieve today\n",
    "\n",
    "Inversion for viscosity in a free-surface channel flow\n",
    "\n",
    "![inversion](./figures/inversion.gif)"
   ],
   "metadata": {
    "name": "A slide ",
    "slideshow": {
     "slide_type": "slide"
    }
   }
  },
  {
   "cell_type": "markdown",
   "source": [
    "## The (yet invisible) cool stuff\n",
    "\n",
    "The code used to produce the inversion\n",
    "- Runs on graphics cards using the Julia language\n",
    "- Uses a fully local and iterative approach (scalability)\n",
    "- Retrieves automatically the \"inverse\" (adjoint) variables using automatic differentiation (AD)\n",
    "- (Features 340 lines of code - 3 solvers + GD)"
   ],
   "metadata": {
    "name": "A slide ",
    "slideshow": {
     "slide_type": "slide"
    }
   }
  },
  {
   "cell_type": "markdown",
   "source": [
    "Too good to be true? Hold on 🙂 ..."
   ],
   "metadata": {
    "name": "A slide ",
    "slideshow": {
     "slide_type": "fragment"
    }
   }
  },
  {
   "cell_type": "markdown",
   "source": [
    "## Why to still bother with GPU computing in 2022\n",
    "\n",
    "- It's around for more than a decade\n",
    "- Shows massive performance gain compared to serial CPU computing\n",
    "- First exascale supercomputer, Frontier, is full of GPUs\n",
    "\n",
    "![Frontier](./figures/frontier.png)"
   ],
   "metadata": {
    "name": "A slide ",
    "slideshow": {
     "slide_type": "slide"
    }
   }
  },
  {
   "cell_type": "markdown",
   "source": [
    "## Performance that matters\n",
    "\n",
    "![cpu_gpu_evo](./figures/cpu_gpu_evo.png)\n",
    "\n",
    "Taking a look at a recent GPU and CPU:\n",
    "- Nvidia Tesla A100 GPU\n",
    "- AMD EPYC \"Rome\" 7282 (16 cores) CPU\n",
    "\n",
    "| Device         | TFLOP/s (FP64) | Memory BW TB/s | Imbalance (FP64)     |\n",
    "| :------------: | :------------: | :------------: | :------------------: |\n",
    "| Tesla A100     | 9.7            | 1.55           | 9.7 / 1.55  × 8 = 50 |\n",
    "| AMD EPYC 7282  | 0.7            | 0.085          | 0.7 / 0.085 × 8 = 66 |"
   ],
   "metadata": {
    "name": "A slide ",
    "slideshow": {
     "slide_type": "slide"
    }
   }
  },
  {
   "cell_type": "markdown",
   "source": [
    "**Meaning:** we can do about 50 floating point operations per number accessed from main memory.\n",
    "Floating point operations are \"for free\" when we work in memory-bounded regimes.\n",
    "\n",
    "👉 Requires to re-think the numerical implementation and solution strategies"
   ],
   "metadata": {
    "name": "A slide ",
    "slideshow": {
     "slide_type": "slide"
    }
   }
  },
  {
   "cell_type": "markdown",
   "source": [
    "Unfortunately, the cost of evaluating a first derivative $∂A / ∂x$ using finite-differences\n",
    "\n",
    "```julia\n",
    "q[ix] = -D*(A[ix+1]-A[ix])/dx\n",
    "```\n",
    "\n",
    "consists of:"
   ],
   "metadata": {
    "name": "A slide ",
    "slideshow": {
     "slide_type": "slide"
    }
   }
  },
  {
   "cell_type": "markdown",
   "source": [
    "- 1 reads + 1 write => $2 × 8$ = **16 Bytes transferred**\n",
    "- 1 (fused) addition and division => **1 floating point operations**\n",
    "\n",
    "👉 assuming $D$, $∂x$ are scalars, $q$ and $A$ are arrays of `Float64` (read from main memory)"
   ],
   "metadata": {
    "name": "A slide ",
    "slideshow": {
     "slide_type": "fragment"
    }
   }
  },
  {
   "cell_type": "markdown",
   "source": [
    "## Performance that matters\n",
    "\n",
    "Not yet convinced?"
   ],
   "metadata": {
    "name": "A slide ",
    "slideshow": {
     "slide_type": "slide"
    }
   }
  },
  {
   "cell_type": "markdown",
   "source": [
    "Performance comparison between the pseudo-transient (PT) and direct-iterative (DI) method resolving\n",
    "2D shear-band formation out of a random noise cohesion field.\n",
    "\n",
    "![pt_plastic2d](./figures/pt_plastic2d.png)\n",
    "\n",
    "Räss et al. (2022) - https://doi.org/10.1029/2019GC008531"
   ],
   "metadata": {
    "name": "A slide ",
    "slideshow": {
     "slide_type": "fragment"
    }
   }
  },
  {
   "cell_type": "markdown",
   "source": [
    "## Performance that matters - an example\n",
    "\n",
    "Not yet convinced? Let's create have a look as an example.\n",
    "\n",
    "Let's assess how close from memory copy (1355 GB/s) we can get solving a 2D diffusion problem on an Nvidia Tesla A100 GPU.\n",
    "\n",
    "$$ ∇⋅(D ∇ C) = \\frac{∂C}{∂t} $$"
   ],
   "metadata": {
    "name": "A slide ",
    "slideshow": {
     "slide_type": "slide"
    }
   }
  },
  {
   "outputs": [],
   "cell_type": "code",
   "source": [
    "using CUDA,BenchmarkTools\n",
    "using ParallelStencil,ParallelStencil.FiniteDifferences2D\n",
    "@init_parallel_stencil(CUDA,Float64,2)\n",
    "CUDA.device!(7) # select specific GPU\n",
    "nx = ny = 512*64\n",
    "C  = @rand(nx,ny)\n",
    "D  = @rand(nx,ny)\n",
    "dx = dy = dt = rand(); C2 = copy(C)\n",
    "@parallel function diffusion_step!(C2, C, D, dt, dx, dy)\n",
    "    @inn(C2) = @inn(C) + dt*@inn(D)*(@d2_xi(C)/dx/dx + @d2_yi(C)/dy/dy)\n",
    "    return\n",
    "end"
   ],
   "metadata": {},
   "execution_count": null
  },
  {
   "cell_type": "markdown",
   "source": [
    "We can now sample the performance on the GPU:"
   ],
   "metadata": {
    "name": "A slide ",
    "slideshow": {
     "slide_type": "slide"
    }
   }
  },
  {
   "outputs": [],
   "cell_type": "code",
   "source": [
    "t_it = @belapsed begin @parallel diffusion_step!($C2, $C, $D, $dt, $dx, $dy); end\n",
    "T_eff = (2*1+1)*1/1e9*nx*ny*sizeof(Float64)/t_it\n",
    "println(\"T_eff = $(T_eff) GiB/s using ParallelStencil on Nvidia A100 GPU\")\n",
    "println(\"So that's cool. We are getting close to hardware limit, running at $(T_eff/1355*100) % of memory copy! 🚀\")"
   ],
   "metadata": {},
   "execution_count": null
  },
  {
   "cell_type": "markdown",
   "source": [
    "## Why to still bother with GPU computing in 2022\n",
    "\n",
    "Because it is still challenging"
   ],
   "metadata": {
    "name": "A slide ",
    "slideshow": {
     "slide_type": "slide"
    }
   }
  },
  {
   "cell_type": "markdown",
   "source": [
    "Why?\n",
    "- Very few software uses it efficiently\n",
    "- It requires to rethink the solving strategy as non-local operations will kill the fun"
   ],
   "metadata": {
    "name": "A slide ",
    "slideshow": {
     "slide_type": "fragment"
    }
   }
  },
  {
   "cell_type": "markdown",
   "source": [
    "## That's what we address in this workshop\n",
    "- We show that both forward and inverse solvers can efficiently run on GPUs\n",
    "- We demonstrate it by making an inversion of shear-driven Stokes flow\n",
    "- We develop all this using the Julia language as it solves the \"two-language problem\""
   ],
   "metadata": {
    "name": "A slide ",
    "slideshow": {
     "slide_type": "slide"
    }
   }
  },
  {
   "cell_type": "markdown",
   "source": [
    "## Outline\n",
    "1. The accelerated pseudo-transient (PT) method - a physics-motivated explanation\n",
    "2. Application of the PT method to GPU supercomputing\n",
    "3. Revisiting the adjoint method implementation using automatic differentiation (AD) and the PT method\n",
    "4. Application: Point-wise inversion for power-law prefactor in a free-surface channel flow\n",
    "5. Outlook and conclusion\n",
    "6. Curious? Some useful resources"
   ],
   "metadata": {
    "name": "A slide ",
    "slideshow": {
     "slide_type": "slide"
    }
   }
  },
  {
   "cell_type": "markdown",
   "source": [
    "## 1. The accelerated pseudo-transient (PT) method\n",
    "A physics-motivated explanation"
   ],
   "metadata": {
    "name": "A slide ",
    "slideshow": {
     "slide_type": "slide"
    }
   }
  },
  {
   "cell_type": "markdown",
   "source": [
    "## Pseudo-transient method\n",
    "\n",
    "Here, we present the pseudo-transient method for solving various problems in geodynamics"
   ],
   "metadata": {
    "name": "A slide ",
    "slideshow": {
     "slide_type": "slide"
    }
   }
  },
  {
   "cell_type": "markdown",
   "source": [
    "Due to time restrictions, we are going to cover in detail only one important application, elliptic solver for Poisson problem 🐟:\n",
    "\n",
    "\\begin{equation*}\n",
    "    \\nabla\\cdot(D\\nabla C) = 0\n",
    "\\end{equation*}\n",
    "where $C$ is the unknown variable and $D$ is the diffusion coefficient"
   ],
   "metadata": {
    "name": "A slide ",
    "slideshow": {
     "slide_type": "fragment"
    }
   }
  },
  {
   "cell_type": "markdown",
   "source": [
    "We also provide some references for further reading"
   ],
   "metadata": {
    "name": "A slide ",
    "slideshow": {
     "slide_type": "fragment"
    }
   }
  },
  {
   "cell_type": "markdown",
   "source": [
    "## How to solve the Poisson problem? 🤔\n",
    "\n",
    "The solution to the Poisson problem could be obtained as a time limit of the transient diffusion problem:\n",
    "\n",
    "\\begin{equation*}\n",
    "    \\beta\\frac{\\partial C}{\\partial t} = \\nabla\\cdot(D\\nabla C)\n",
    "\\end{equation*}\n",
    "where $t$ is time, and $\\beta$ is some proportionality factor"
   ],
   "metadata": {
    "name": "A slide ",
    "slideshow": {
     "slide_type": "slide"
    }
   }
  },
  {
   "cell_type": "markdown",
   "source": [
    "## 1D case\n",
    "\n",
    "Consider the 1D diffusion problem with constant diffusion coefficient $D = \\mathrm{const}$:\n",
    "\\begin{align*}\n",
    "    \\beta\\frac{\\partial C}{\\partial t} &= -\\frac{\\partial q_C}{\\partial x} \\\\\n",
    "    q_C &= -D\\frac{\\partial C}{\\partial x}\n",
    "\\end{align*}\n",
    "\n",
    "We could eliminate the flux $q_C$ to obtain the heat equation for $C$\n",
    "\\begin{equation*}\n",
    "    \\beta\\frac{\\partial C}{\\partial t} = D\\frac{\\partial^2 C}{\\partial x^2}\n",
    "\\end{equation*}"
   ],
   "metadata": {
    "name": "A slide ",
    "slideshow": {
     "slide_type": "slide"
    }
   }
  },
  {
   "cell_type": "markdown",
   "source": [
    "*Let's implement the finite-difference solver for that problem in Julia!* 🚀"
   ],
   "metadata": {
    "name": "A slide ",
    "slideshow": {
     "slide_type": "slide"
    }
   }
  },
  {
   "cell_type": "markdown",
   "source": [
    "We start by importing some packages for plotting and logging options:"
   ],
   "metadata": {
    "name": "A slide ",
    "slideshow": {
     "slide_type": "fragment"
    }
   }
  },
  {
   "outputs": [],
   "cell_type": "code",
   "source": [
    "using Plots,Logging\n",
    "Logging.disable_logging(Logging.Info)"
   ],
   "metadata": {
    "name": "A slide ",
    "slideshow": {
     "slide_type": "fragment"
    }
   },
   "execution_count": null
  },
  {
   "cell_type": "markdown",
   "source": [
    "This code simulates transient diffusion in 1D:"
   ],
   "metadata": {
    "name": "A slide ",
    "slideshow": {
     "slide_type": "slide"
    }
   }
  },
  {
   "outputs": [],
   "cell_type": "code",
   "source": [
    "# physics\n",
    "lx = 10.0           # domain length\n",
    "D  = 1.0            # diffusion coefficient\n",
    "β  = 1.0            # proportionality factor\n",
    "# numerics\n",
    "nx = 100            # number of grid points\n",
    "nt = 200            # number of time steps\n",
    "# preprocessing\n",
    "dx = lx/nx          # grid spacing\n",
    "dt = dx^2/(D/β)/2.1 # time step from stability analysis\n",
    "xc = LinRange(-lx/2+dx/2,lx/2-dx/2,nx)\n",
    "# init\n",
    "C  = exp.(-xc.^2); C_i = copy(C)\n",
    "qC = zeros(nx-1)\n",
    "# action\n",
    "@gif for it = 1:nt\n",
    "    qC          .= .-D.*diff(C)./dx\n",
    "    C[2:end-1] .-= dt/β.*diff(qC)./dx\n",
    "    plot(xc,[C_i,C];framestyle=:box,legend=false,ylims=(0,1))\n",
    "end every 5"
   ],
   "metadata": {
    "name": "A slide ",
    "slideshow": {
     "slide_type": "fragment"
    }
   },
   "execution_count": null
  },
  {
   "cell_type": "markdown",
   "source": [
    "## Is that all?\n",
    "No 😅. This code works, but there is one problem:"
   ],
   "metadata": {
    "name": "A slide ",
    "slideshow": {
     "slide_type": "slide"
    }
   }
  },
  {
   "cell_type": "markdown",
   "source": [
    "*It doesn't scale!*"
   ],
   "metadata": {
    "name": "A slide ",
    "slideshow": {
     "slide_type": "fragment"
    }
   }
  },
  {
   "cell_type": "markdown",
   "source": [
    "The problem is the stability criterion for explicit time integration:\n",
    "\n",
    "```julia\n",
    "dt = dx^2/(D/β)/2.1\n",
    "```"
   ],
   "metadata": {
    "name": "A slide ",
    "slideshow": {
     "slide_type": "slide"
    }
   }
  },
  {
   "cell_type": "markdown",
   "source": [
    "The number of the time steps required for convergence is proportional to `nx^2`"
   ],
   "metadata": {
    "name": "A slide ",
    "slideshow": {
     "slide_type": "fragment"
    }
   }
  },
  {
   "cell_type": "markdown",
   "source": [
    "Could we do better? Yes! Before discussing acceleration, we need to consider one important physical process"
   ],
   "metadata": {
    "name": "A slide ",
    "slideshow": {
     "slide_type": "fragment"
    }
   }
  },
  {
   "cell_type": "markdown",
   "source": [
    "## Acoustic wave propagation\n",
    "\n",
    "\\begin{align*}\n",
    "    \\beta\\frac{\\partial P}{\\partial t} &= -\\frac{\\partial U}{\\partial x}~, \\\\\n",
    "    \\rho\\frac{\\partial U}{\\partial t} &= -\\frac{\\partial P}{\\partial x}~.\n",
    "\\end{align*}\n",
    "Here, $P$ is the pressure, $U$ is the displacement, $\\beta$ is the compressibility, and $\\rho$ is the density."
   ],
   "metadata": {
    "name": "A slide ",
    "slideshow": {
     "slide_type": "slide"
    }
   }
  },
  {
   "cell_type": "markdown",
   "source": [
    "By eliminating $U$, we obtain the wave equation:\n",
    "\\begin{equation*}\n",
    "    \\frac{\\partial^2 P}{\\partial t^2} = \\frac{1}{\\rho\\beta}\\frac{\\partial^2 P}{\\partial x^2}~.\n",
    "\\end{equation*}"
   ],
   "metadata": {
    "name": "A slide ",
    "slideshow": {
     "slide_type": "slide"
    }
   }
  },
  {
   "cell_type": "markdown",
   "source": [
    "*Let's implement the finite-difference solver for that problem in Julia!* 🚀"
   ],
   "metadata": {
    "name": "A slide ",
    "slideshow": {
     "slide_type": "fragment"
    }
   }
  },
  {
   "outputs": [],
   "cell_type": "code",
   "source": [
    "# physics\n",
    "lx = 10.0           # domain length\n",
    "β  = 1.0            # compressibility\n",
    "ρ  = 1.0            # density\n",
    "# numerics\n",
    "nx = 100            # number of grid points\n",
    "nt = 200            # number of time steps\n",
    "# preprocessing\n",
    "dx = lx/nx          # grid spacing\n",
    "dt = dx/sqrt(1/ρ/β) # time step from stability analysis\n",
    "xc = LinRange(-lx/2+dx/2,lx/2-dx/2,nx)\n",
    "# init\n",
    "Pr = exp.(-xc.^2); Pr_i = copy(Pr)\n",
    "Ux = zeros(nx-1)\n",
    "# action\n",
    "@gif for it = 1:nt\n",
    "    Ux          .-= dt/ρ.*diff(Pr)./dx\n",
    "    Pr[2:end-1] .-= dt/β.*diff(Ux)./dx\n",
    "    plot(xc,[Pr_i,Pr];framestyle=:box,legend=false,ylims=(-1,1))\n",
    "end every 5"
   ],
   "metadata": {
    "name": "A slide ",
    "slideshow": {
     "slide_type": "slide"
    }
   },
   "execution_count": null
  },
  {
   "cell_type": "markdown",
   "source": [
    "Now the time step depends only linearly on the grid spacing `nx`:\n",
    "```julia\n",
    "dt = dx/sqrt(1/ρ/β)\n",
    "```"
   ],
   "metadata": {
    "name": "A slide ",
    "slideshow": {
     "slide_type": "slide"
    }
   }
  },
  {
   "cell_type": "markdown",
   "source": [
    "But the problem doesn't have the steady-state!"
   ],
   "metadata": {
    "name": "A slide ",
    "slideshow": {
     "slide_type": "fragment"
    }
   }
  },
  {
   "cell_type": "markdown",
   "source": [
    "Can we have best from both worlds?"
   ],
   "metadata": {
    "name": "A slide ",
    "slideshow": {
     "slide_type": "fragment"
    }
   }
  },
  {
   "cell_type": "markdown",
   "source": [
    "## Damped wave equation\n",
    "\n",
    "\\begin{align*}\n",
    "    \\beta\\frac{\\partial C}{\\partial t} &= -\\frac{\\partial q_C}{\\partial x} \\\\\n",
    "    \\rho\\frac{\\partial q_C}{\\partial t} + \\frac{q_C}{D} &= -\\frac{\\partial C}{\\partial x}\n",
    "\\end{align*}"
   ],
   "metadata": {
    "name": "A slide ",
    "slideshow": {
     "slide_type": "slide"
    }
   }
  },
  {
   "cell_type": "markdown",
   "source": [
    "## Compare the equations\n",
    "\n",
    "| Diffusion                                                                   | Wave propagation                                                          | Damped wave propagation                                                                    |\n",
    "|-----------------------------------------------------------------------------|---------------------------------------------------------------------------|--------------------------------------------------------------------------------------------|\n",
    "| $$ \\frac{q_C}{D} = -\\frac{\\partial C}{\\partial x} $$                        | $$ \\rho\\frac{\\partial U}{\\partial t} = -\\frac{\\partial P}{\\partial x} $$  | $$ \\rho\\frac{\\partial q_C}{\\partial t} + \\frac{q_C}{D} = -\\frac{\\partial C}{\\partial x} $$ |\n",
    "| $$ \\beta\\frac{\\partial C}{\\partial t} = -\\frac{\\partial q_C}{\\partial x} $$ | $$ \\beta\\frac{\\partial P}{\\partial t} = -\\frac{\\partial U}{\\partial x} $$ | $$ \\beta\\frac{\\partial C}{\\partial t} = -\\frac{\\partial q_C}{\\partial x} $$                |"
   ],
   "metadata": {
    "name": "A slide ",
    "slideshow": {
     "slide_type": "subslide"
    }
   }
  },
  {
   "outputs": [],
   "cell_type": "code",
   "source": [
    "# physics\n",
    "lx = 10.0\n",
    "D  = 1.0\n",
    "ρ  = 1.0\n",
    "β  = 1.0\n",
    "# numerics\n",
    "nx = 100\n",
    "nt = 500\n",
    "# preprocessing\n",
    "dx = lx/nx\n",
    "xc = LinRange(-lx/2+dx/2,lx/2-dx/2,nx)\n",
    "dt = dx/sqrt(1/ρ/β)/1.1\n",
    "# init\n",
    "C  = exp.(-xc.^2); C_i = copy(C)\n",
    "qC = .-D.*diff(C)./dx\n",
    "# action\n",
    "@gif for it = 1:nt\n",
    "    qC         .-= dt/(ρ*D+dt).*(qC .+ D.*diff(C)./dx)\n",
    "    C[2:end-1] .-= dt/β.*diff(qC)./dx\n",
    "    plot(xc,[C_i,C];framestyle=:box,legend=false,ylims=(-1,1))\n",
    "end every 5"
   ],
   "metadata": {
    "name": "A slide ",
    "slideshow": {
     "slide_type": "slide"
    }
   },
   "execution_count": null
  },
  {
   "cell_type": "markdown",
   "source": [
    "Now, both the diffusion and the wave propagation are featured in the solution\n",
    "\n",
    "Let's decrease $\\beta$:"
   ],
   "metadata": {}
  },
  {
   "outputs": [],
   "cell_type": "code",
   "source": [
    "β = 0.1"
   ],
   "metadata": {},
   "execution_count": null
  },
  {
   "cell_type": "markdown",
   "source": [
    "And re-run the code"
   ],
   "metadata": {}
  },
  {
   "outputs": [],
   "cell_type": "code",
   "source": [
    "dt = dx/sqrt(1/ρ/β)/1.1\n",
    "# init\n",
    "C  = exp.(-xc.^2); C_i = copy(C)\n",
    "qC = -D.*diff(C)./dx\n",
    "# action\n",
    "@gif for it = 1:nt\n",
    "    qC         .-= dt/(ρ*D+dt).*(qC .+ D.*diff(C)./dx)\n",
    "    C[2:end-1] .-= dt/β.*diff(qC)./dx\n",
    "    plot(xc,[C_i,C];framestyle=:box,legend=false,ylims=(-1,1))\n",
    "end every 5"
   ],
   "metadata": {},
   "execution_count": null
  },
  {
   "cell_type": "markdown",
   "source": [
    "We can see, that the process is now dominated by wave propagation\n",
    "\n",
    "Let's make $\\beta$ larger now:"
   ],
   "metadata": {}
  },
  {
   "outputs": [],
   "cell_type": "code",
   "source": [
    "β = 1000.0"
   ],
   "metadata": {},
   "execution_count": null
  },
  {
   "cell_type": "markdown",
   "source": [
    "And re-run the code"
   ],
   "metadata": {}
  },
  {
   "outputs": [],
   "cell_type": "code",
   "source": [
    "dt = dx/sqrt(1/ρ/β)/1.1\n",
    "# init\n",
    "C  = exp.(-xc.^2); C_i = copy(C)\n",
    "qC = -D.*diff(C)./dx\n",
    "# action\n",
    "@gif for it = 1:nt\n",
    "    qC         .-= dt/(ρ*D+dt).*(qC .+ D.*diff(C)./dx)\n",
    "    C[2:end-1] .-= dt/β.*diff(qC)./dx\n",
    "    plot(xc,[C_i,C];framestyle=:box,legend=false,ylims=(-1,1))\n",
    "end every 5"
   ],
   "metadata": {},
   "execution_count": null
  },
  {
   "cell_type": "markdown",
   "source": [
    "Now the process is dominated by diffusion\n",
    "\n",
    "There is an optimal value for $\\beta$, that guarantees the fastest convergence to steady state:"
   ],
   "metadata": {}
  },
  {
   "outputs": [],
   "cell_type": "code",
   "source": [
    "re = 2π\n",
    "β  = ρ*D^2*re^2/lx^2"
   ],
   "metadata": {},
   "execution_count": null
  },
  {
   "cell_type": "markdown",
   "source": [
    "Let's re-run the code"
   ],
   "metadata": {}
  },
  {
   "outputs": [],
   "cell_type": "code",
   "source": [
    "dt = dx/sqrt(1/ρ/β)/1.1\n",
    "# init\n",
    "C  = exp.(-xc.^2); C_i = copy(C)\n",
    "qC = -D.*diff(C)./dx\n",
    "# action\n",
    "@gif for it = 1:nt\n",
    "    qC         .-= dt/(ρ*D+dt).*(qC .+ D.*diff(C)./dx)\n",
    "    C[2:end-1] .-= dt/β.*diff(qC)./dx\n",
    "    plot(xc,[C_i,C];framestyle=:box,legend=false,ylims=(-1,1))\n",
    "end every 5\n",
    "\n",
    "%% A slide [code] {\"slideshow\": {\"slide_type\": \"slide\"}}"
   ],
   "metadata": {},
   "execution_count": null
  },
  {
   "cell_type": "markdown",
   "source": [
    "## Going 2D\n",
    "\n",
    "Extension to 2D and even 3D is straightforward:"
   ],
   "metadata": {}
  },
  {
   "outputs": [],
   "cell_type": "code",
   "source": [
    "# physics\n",
    "lx,ly = 10.0,10.0\n",
    "dc    = 1.0\n",
    "ρ     = 1.0\n",
    "re    = 2π\n",
    "β     = ρ*D^2*re^2/lx^2\n",
    "# numerics\n",
    "nx,ny = 100,100\n",
    "nt    = 500\n",
    "# preprocessing\n",
    "dx,dy = lx/nx, ly/ny\n",
    "xc,yc = LinRange(-lx/2+dx/2,lx/2-dx/2,nx),LinRange(-ly/2+dy/2,ly/2-dy/2,ny)\n",
    "dt    = min(dx,dy)/sqrt(1/ρ/β)/1.5\n",
    "# init\n",
    "C       = exp.(-xc.^2 .- yc'.^2)\n",
    "qCx,qCy = zeros(nx-1,ny-2),zeros(nx-2,ny-1)\n",
    "# action\n",
    "@gif for it = 1:nt\n",
    "    qCx .-= dt/(ρ*D+dt).*(qCx .+ D.*diff(C[:,2:end-1],dims=1)./dx)\n",
    "    qCy .-= dt/(ρ*D+dt).*(qCy .+ D.*diff(C[2:end-1,:],dims=2)./dy)\n",
    "    C[2:end-1,2:end-1] .-= dt/β.*(diff(qCx,dims=1)./dx .+ diff(qCy,dims=2)./dy)\n",
    "    heatmap(xc,yc,C';framestyle=:box,xlims=(-lx/2,lx/2),ylims=(-ly/2,ly/2),aspect_ratio=1)\n",
    "end every 5"
   ],
   "metadata": {},
   "execution_count": null
  },
  {
   "cell_type": "markdown",
   "source": [
    "We published a paper recently that covers in detail how to derive these optimal parameters for various problems\n",
    "<img src=\"./figures/gmd_paper_title.png\" alt=\"PT paper title page\" width=\"800\"/>"
   ],
   "metadata": {
    "name": "A slide ",
    "slideshow": {
     "slide_type": "slide"
    }
   }
  },
  {
   "cell_type": "markdown",
   "source": [
    "Problems include steady-state diffusion, transient diffusion, and Stokes flow\n",
    "![PT iteration parameters](./figures/fig_niter_optimal.png)"
   ],
   "metadata": {
    "name": "A slide ",
    "slideshow": {
     "slide_type": "slide"
    }
   }
  },
  {
   "cell_type": "markdown",
   "source": [
    "## 2. Application of the PT method to GPU supercomputing\n",
    "Resolving nonlinear mechanical problems with elasto-viscoplastic rheology in 3D\n",
    "\n",
    "![pt_plastic3d](./figures/pt_plastic3d.png)\n",
    "\n",
    "Räss et al. (2022) - https://doi.org/10.1029/2019GC008531"
   ],
   "metadata": {
    "name": "A slide ",
    "slideshow": {
     "slide_type": "slide"
    }
   }
  },
  {
   "cell_type": "markdown",
   "source": [
    "## Scalability of the accelerated PT method I\n",
    "\n",
    "Iteration count normalised by number of grid points in x-direction to remain mostly constant as function of `nx`.\n",
    "\n",
    "![pt_iter_scale](./figures/pt_iter_scale.png)\n",
    "\n",
    "Räss et al. (2022) - https://doi.org/10.1029/2019GC008531"
   ],
   "metadata": {
    "name": "A slide ",
    "slideshow": {
     "slide_type": "slide"
    }
   }
  },
  {
   "cell_type": "markdown",
   "source": [
    "## Scalability of the accelerated PT method II\n",
    "\n",
    "Next, as the PT algorithm is fully local, we achieve ideal parallel efficiency on 2000 GPUs.\n",
    "\n",
    "![pt_multigpu](./figures/pt_multigpu.png)\n",
    "\n",
    "We use asynchronous GPU function execution to hide MPI communication behind computations. A ready.to-use feature in [`ImplicitGlobalGrid.jl`](https://github.com/eth-cscs/ImplicitGlobalGrid.jl).\n",
    "\n",
    "Räss et al. (2022) - https://doi.org/10.1029/2019GC008531"
   ],
   "metadata": {
    "name": "A slide ",
    "slideshow": {
     "slide_type": "slide"
    }
   }
  },
  {
   "cell_type": "markdown",
   "source": [
    "## 3. Revisiting the adjoint method implementation\n",
    "Using automatic differentiation (AD) and the PT method\n",
    "\n",
    "Ivan"
   ],
   "metadata": {
    "name": "A slide ",
    "slideshow": {
     "slide_type": "slide"
    }
   }
  },
  {
   "cell_type": "markdown",
   "source": [
    "## The adjoint method\n",
    "\n",
    "![adjoint_inv](./figures/adjoint_inv.png)"
   ],
   "metadata": {
    "name": "A slide ",
    "slideshow": {
     "slide_type": "slide"
    }
   }
  },
  {
   "cell_type": "markdown",
   "source": [
    "## Automatic differentiation and the PT method\n",
    "\n",
    "![adjoint_pt_ad](./figures/adjoint_pt_ad.png)"
   ],
   "metadata": {
    "name": "A slide ",
    "slideshow": {
     "slide_type": "slide"
    }
   }
  },
  {
   "cell_type": "markdown",
   "source": [
    "## AD approach in Julia\n",
    "\n",
    "![adjoint_julia_tools](./figures/adjoint_julia_tools.png)"
   ],
   "metadata": {
    "name": "A slide ",
    "slideshow": {
     "slide_type": "slide"
    }
   }
  },
  {
   "cell_type": "markdown",
   "source": [
    "## 4. Application\n",
    "Point-wise inversion for power-law prefactor in a free-surface channel flow\n",
    "\n",
    "Inversion for viscosity in a free-surface channel flow\n",
    "\n",
    "![inversion](./figures/inversion.gif)"
   ],
   "metadata": {
    "name": "A slide ",
    "slideshow": {
     "slide_type": "slide"
    }
   }
  },
  {
   "cell_type": "markdown",
   "source": [
    "## 5. Outlook and conclusion"
   ],
   "metadata": {
    "name": "A slide ",
    "slideshow": {
     "slide_type": "slide"
    }
   }
  },
  {
   "cell_type": "markdown",
   "source": [
    "## 6. Curious?\n",
    "Some useful resources"
   ],
   "metadata": {
    "name": "A slide ",
    "slideshow": {
     "slide_type": "slide"
    }
   }
  }
 ],
 "nbformat_minor": 3,
 "metadata": {
  "language_info": {
   "file_extension": ".jl",
   "mimetype": "application/julia",
   "name": "julia",
   "version": "1.8.0"
  },
  "kernelspec": {
   "name": "julia-1.8",
   "display_name": "Julia 1.8.0",
   "language": "julia"
  }
 },
 "nbformat": 4
}
