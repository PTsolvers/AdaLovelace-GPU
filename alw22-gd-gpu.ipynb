{
 "cells": [
  {
   "cell_type": "markdown",
   "source": [
    "# Parallel high-performance stencil computations on xPUs\n",
    "\n",
    "Ludovic Räss & Ivan Utkin\n",
    "\n",
    "_ETH Zurich_\n",
    "\n",
    "![gpu](./figures/logo2.png)"
   ],
   "metadata": {
    "name": "A slide ",
    "slideshow": {
     "slide_type": "slide"
    }
   }
  },
  {
   "cell_type": "markdown",
   "source": [
    "## The nice to have features\n",
    "\n",
    "Wouldn't it be nice to have single code that:\n",
    "- runs both on CPUs and GPUs (xPUs)?\n",
    "- one can use for prototyping and production?\n",
    "- runs at optimal performance?"
   ],
   "metadata": {
    "name": "A slide ",
    "slideshow": {
     "slide_type": "slide"
    }
   }
  },
  {
   "cell_type": "markdown",
   "source": [
    "Hold on 🙂 ..."
   ],
   "metadata": {
    "name": "A slide ",
    "slideshow": {
     "slide_type": "fragment"
    }
   }
  }
 ],
 "nbformat_minor": 3,
 "metadata": {
  "language_info": {
   "file_extension": ".jl",
   "mimetype": "application/julia",
   "name": "julia",
   "version": "1.7.2"
  },
  "kernelspec": {
   "name": "julia-1.7",
   "display_name": "Julia 1.7.2",
   "language": "julia"
  }
 },
 "nbformat": 4
}
